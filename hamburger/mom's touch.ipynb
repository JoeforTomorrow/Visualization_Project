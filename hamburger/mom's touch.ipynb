{
 "cells": [
  {
   "cell_type": "code",
   "execution_count": 1,
   "id": "6a85bfc8",
   "metadata": {},
   "outputs": [],
   "source": [
    "import requests\n",
    "from bs4 import BeautifulSoup\n",
    "import pandas as pd"
   ]
  },
  {
   "cell_type": "code",
   "execution_count": 2,
   "id": "ce0e0b40",
   "metadata": {},
   "outputs": [],
   "source": [
    "url = \"https://momstouchdev.co.kr/store/inner_shop_list.php\"\n",
    "payload = {\n",
    "    \"s_area_sido\" : \"009\",\n",
    "    \"s_area_sigun\": \"\",\n",
    "    \"type\"        : \"area\"\n",
    "}\n",
    "response = requests.get(url,params = payload)"
   ]
  },
  {
   "cell_type": "code",
   "execution_count": 45,
   "id": "14545fcf",
   "metadata": {},
   "outputs": [
    {
     "data": {
      "text/plain": [
       "'서울특별시 송파구 문정동 \\xa0634, 가든파이브테크노관 지사1층'"
      ]
     },
     "execution_count": 45,
     "metadata": {},
     "output_type": "execute_result"
    }
   ],
   "source": [
    "soup = BeautifulSoup(response.text,\"html.parser\")\n",
    "a = soup.select(\"li\")\n",
    "a[0].select_one(\"span\")['onclick'].split(\"'\")[1] #위도\n",
    "a[0].select_one(\"span\")['onclick'].split(\"'\")[3] #경도\n",
    "a[0].select_one(\"span\").text                     #가게명\n",
    "a[0].select_one(\"dd\").text                       #주소"
   ]
  },
  {
   "cell_type": "code",
   "execution_count": 52,
   "id": "05108e60",
   "metadata": {},
   "outputs": [
    {
     "name": "stderr",
     "output_type": "stream",
     "text": [
      "C:\\Users\\jjp75\\AppData\\Local\\Temp/ipykernel_40924/3704626066.py:12: FutureWarning: In a future version of pandas all arguments of DataFrame.set_axis except for the argument 'labels' will be keyword-only\n",
      "  df = df.set_axis([\"매장명\",\"시\",\"구\",\"동\",\"위도\",\"경도\"],1,inplace = False)\n"
     ]
    }
   ],
   "source": [
    "df = pd.DataFrame()\n",
    "for mom in a:\n",
    "    lat  = mom.select_one(\"span\")['onclick'].split(\"'\")[1] #위도\n",
    "    lng  = mom.select_one(\"span\")['onclick'].split(\"'\")[3] #경도\n",
    "    name = mom.select_one(\"span\").text                     #가게명\n",
    "    addr = mom.select_one(\"dd\").text.split()               #주소리스트\n",
    "    si   = addr[0]\n",
    "    gu   = addr[1]\n",
    "    dong = addr[2]\n",
    "    x = pd.Series([name,si,gu,dong,lat,lng])\n",
    "    df = df.append(x,ignore_index=True)\n",
    "df = df.set_axis([\"매장명\",\"시\",\"구\",\"동\",\"위도\",\"경도\"],1,inplace = False)"
   ]
  },
  {
   "cell_type": "code",
   "execution_count": 53,
   "id": "6dbe6a30",
   "metadata": {},
   "outputs": [],
   "source": [
    "df.to_csv(\"momstouch_seoul_1.csv\")"
   ]
  }
 ],
 "metadata": {
  "kernelspec": {
   "display_name": "Python 3 (ipykernel)",
   "language": "python",
   "name": "python3"
  },
  "language_info": {
   "codemirror_mode": {
    "name": "ipython",
    "version": 3
   },
   "file_extension": ".py",
   "mimetype": "text/x-python",
   "name": "python",
   "nbconvert_exporter": "python",
   "pygments_lexer": "ipython3",
   "version": "3.9.7"
  }
 },
 "nbformat": 4,
 "nbformat_minor": 5
}

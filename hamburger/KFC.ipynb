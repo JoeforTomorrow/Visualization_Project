{
 "cells": [
  {
   "cell_type": "code",
   "execution_count": 41,
   "id": "997d379c",
   "metadata": {},
   "outputs": [],
   "source": [
    "import requests\n",
    "import json\n",
    "import pandas as pd"
   ]
  },
  {
   "cell_type": "code",
   "execution_count": 38,
   "id": "9cdacc03",
   "metadata": {},
   "outputs": [
    {
     "name": "stdout",
     "output_type": "stream",
     "text": [
      "146\n"
     ]
    }
   ],
   "source": [
    "url = \"https://www.kfckorea.com/kfc/interface/selectStoreList\"\n",
    "data = {\"device\":\"WEB\",\"store_search\":\"\",\"sido_search\":\"A0181\",\n",
    "        \"gugun_search\":\"\",\"show_search\":\"Y\",\"store_show_type\":\"\",\n",
    "        \"sales_code_search\":\"\",\"initYn\":\"N\",\"lat_search\":\"\",\"lng_search\":\"\",\n",
    "        \"rows\":\"200\"}\n",
    "response = requests.post(url,data = data)\n",
    "korea_kfc = response.json()['rows']\n",
    "print(len(korea_kfc))"
   ]
  },
  {
   "cell_type": "code",
   "execution_count": 45,
   "id": "b6519ad7",
   "metadata": {},
   "outputs": [
    {
     "data": {
      "text/plain": [
       "'서울'"
      ]
     },
     "execution_count": 45,
     "metadata": {},
     "output_type": "execute_result"
    }
   ],
   "source": [
    "korea_kfc[2]['store_address_sido']"
   ]
  },
  {
   "cell_type": "code",
   "execution_count": 54,
   "id": "06fd87ac",
   "metadata": {},
   "outputs": [],
   "source": [
    "df = pd.DataFrame()\n",
    "for kfc in korea_kfc:\n",
    "    try:\n",
    "        name    = kfc['store_name']\n",
    "        si      = kfc['store_address_sido']\n",
    "        gu      = kfc['store_address_gugun']\n",
    "        address = kfc['store_new_address']\n",
    "        lat     = kfc['store_latitude']\n",
    "        lng     = kfc['store_longitude']\n",
    "        if si == \"서울\":\n",
    "            x = pd.Series([name,si,gu,address,lat,lng])\n",
    "            df = df.append(x,ignore_index=True)\n",
    "        else:\n",
    "            pass\n",
    "    except:\n",
    "        pass"
   ]
  },
  {
   "cell_type": "code",
   "execution_count": 56,
   "id": "21392ff3",
   "metadata": {},
   "outputs": [
    {
     "name": "stderr",
     "output_type": "stream",
     "text": [
      "C:\\Users\\jjp75\\AppData\\Local\\Temp/ipykernel_40396/324243038.py:1: FutureWarning: In a future version of pandas all arguments of DataFrame.set_axis except for the argument 'labels' will be keyword-only\n",
      "  df2 = df.set_axis([\"지점명\",\"시\",\"구\",\"주소\",\"위도\",\"경도\"],1,inplace=False)\n"
     ]
    },
    {
     "data": {
      "text/html": [
       "<div>\n",
       "<style scoped>\n",
       "    .dataframe tbody tr th:only-of-type {\n",
       "        vertical-align: middle;\n",
       "    }\n",
       "\n",
       "    .dataframe tbody tr th {\n",
       "        vertical-align: top;\n",
       "    }\n",
       "\n",
       "    .dataframe thead th {\n",
       "        text-align: right;\n",
       "    }\n",
       "</style>\n",
       "<table border=\"1\" class=\"dataframe\">\n",
       "  <thead>\n",
       "    <tr style=\"text-align: right;\">\n",
       "      <th></th>\n",
       "      <th>지점명</th>\n",
       "      <th>시</th>\n",
       "      <th>구</th>\n",
       "      <th>주소</th>\n",
       "      <th>위도</th>\n",
       "      <th>경도</th>\n",
       "    </tr>\n",
       "  </thead>\n",
       "  <tbody>\n",
       "    <tr>\n",
       "      <th>0</th>\n",
       "      <td>보라매</td>\n",
       "      <td>서울</td>\n",
       "      <td>동작구</td>\n",
       "      <td>서울 동작구 보라매로5가길 7 (신대방동, 캐릭터 그린빌)</td>\n",
       "      <td>37.491892</td>\n",
       "      <td>126.925156</td>\n",
       "    </tr>\n",
       "    <tr>\n",
       "      <th>1</th>\n",
       "      <td>석계역</td>\n",
       "      <td>서울</td>\n",
       "      <td>노원구</td>\n",
       "      <td>서울 노원구 석계로1길 14 (월계동)</td>\n",
       "      <td>37.615555</td>\n",
       "      <td>127.063914</td>\n",
       "    </tr>\n",
       "    <tr>\n",
       "      <th>2</th>\n",
       "      <td>숙대입구</td>\n",
       "      <td>서울</td>\n",
       "      <td>용산구</td>\n",
       "      <td>서울 용산구 한강대로 297 (갈월동)</td>\n",
       "      <td>37.544758</td>\n",
       "      <td>126.971684</td>\n",
       "    </tr>\n",
       "    <tr>\n",
       "      <th>3</th>\n",
       "      <td>명일DI점</td>\n",
       "      <td>서울</td>\n",
       "      <td>강동구</td>\n",
       "      <td>서울 강동구 양재대로 1651 (명일동)</td>\n",
       "      <td>37.552955</td>\n",
       "      <td>127.143801</td>\n",
       "    </tr>\n",
       "    <tr>\n",
       "      <th>4</th>\n",
       "      <td>신정네거리역</td>\n",
       "      <td>서울</td>\n",
       "      <td>양천구</td>\n",
       "      <td>서울 양천구 중앙로 277 (신정동)</td>\n",
       "      <td>37.520925</td>\n",
       "      <td>126.852250</td>\n",
       "    </tr>\n",
       "    <tr>\n",
       "      <th>...</th>\n",
       "      <td>...</td>\n",
       "      <td>...</td>\n",
       "      <td>...</td>\n",
       "      <td>...</td>\n",
       "      <td>...</td>\n",
       "      <td>...</td>\n",
       "    </tr>\n",
       "    <tr>\n",
       "      <th>68</th>\n",
       "      <td>광화문</td>\n",
       "      <td>서울</td>\n",
       "      <td>종로구</td>\n",
       "      <td>서울 종로구 세종대로23길 7 (세종로)</td>\n",
       "      <td>37.571540</td>\n",
       "      <td>126.975948</td>\n",
       "    </tr>\n",
       "    <tr>\n",
       "      <th>69</th>\n",
       "      <td>광장동</td>\n",
       "      <td>서울</td>\n",
       "      <td>광진구</td>\n",
       "      <td>서울 광진구 광나루로 604 (구의동)</td>\n",
       "      <td>37.541578</td>\n",
       "      <td>127.094914</td>\n",
       "    </tr>\n",
       "    <tr>\n",
       "      <th>70</th>\n",
       "      <td>개롱역</td>\n",
       "      <td>서울</td>\n",
       "      <td>송파구</td>\n",
       "      <td>서울 송파구 오금로 404 (가락동)</td>\n",
       "      <td>37.497593</td>\n",
       "      <td>127.135122</td>\n",
       "    </tr>\n",
       "    <tr>\n",
       "      <th>71</th>\n",
       "      <td>강남고속터미널</td>\n",
       "      <td>서울</td>\n",
       "      <td>서초구</td>\n",
       "      <td>서울 서초구 신반포로 189 (잠원동)</td>\n",
       "      <td>37.506545</td>\n",
       "      <td>127.004868</td>\n",
       "    </tr>\n",
       "    <tr>\n",
       "      <th>72</th>\n",
       "      <td>가산디지털</td>\n",
       "      <td>서울</td>\n",
       "      <td>금천구</td>\n",
       "      <td>서울 금천구 가산디지털1로 186 (가산동)</td>\n",
       "      <td>37.481913</td>\n",
       "      <td>126.881581</td>\n",
       "    </tr>\n",
       "  </tbody>\n",
       "</table>\n",
       "<p>73 rows × 6 columns</p>\n",
       "</div>"
      ],
      "text/plain": [
       "        지점명   시    구                                주소         위도          경도\n",
       "0       보라매  서울  동작구  서울 동작구 보라매로5가길 7 (신대방동, 캐릭터 그린빌)  37.491892  126.925156\n",
       "1       석계역  서울  노원구             서울 노원구 석계로1길 14 (월계동)  37.615555  127.063914\n",
       "2      숙대입구  서울  용산구             서울 용산구 한강대로 297 (갈월동)  37.544758  126.971684\n",
       "3     명일DI점  서울  강동구            서울 강동구 양재대로 1651 (명일동)  37.552955  127.143801\n",
       "4    신정네거리역  서울  양천구              서울 양천구 중앙로 277 (신정동)  37.520925  126.852250\n",
       "..      ...  ..  ...                               ...        ...         ...\n",
       "68      광화문  서울  종로구            서울 종로구 세종대로23길 7 (세종로)  37.571540  126.975948\n",
       "69      광장동  서울  광진구             서울 광진구 광나루로 604 (구의동)  37.541578  127.094914\n",
       "70      개롱역  서울  송파구              서울 송파구 오금로 404 (가락동)  37.497593  127.135122\n",
       "71  강남고속터미널  서울  서초구             서울 서초구 신반포로 189 (잠원동)  37.506545  127.004868\n",
       "72    가산디지털  서울  금천구          서울 금천구 가산디지털1로 186 (가산동)  37.481913  126.881581\n",
       "\n",
       "[73 rows x 6 columns]"
      ]
     },
     "execution_count": 56,
     "metadata": {},
     "output_type": "execute_result"
    }
   ],
   "source": [
    "df2 = df.set_axis([\"지점명\",\"시\",\"구\",\"주소\",\"위도\",\"경도\"],1,inplace=False)\n",
    "df2"
   ]
  },
  {
   "cell_type": "code",
   "execution_count": 58,
   "id": "8b0f963f",
   "metadata": {},
   "outputs": [],
   "source": [
    "df2.to_csv(\"seoul_kfc.csv\")"
   ]
  }
 ],
 "metadata": {
  "kernelspec": {
   "display_name": "Python 3 (ipykernel)",
   "language": "python",
   "name": "python3"
  },
  "language_info": {
   "codemirror_mode": {
    "name": "ipython",
    "version": 3
   },
   "file_extension": ".py",
   "mimetype": "text/x-python",
   "name": "python",
   "nbconvert_exporter": "python",
   "pygments_lexer": "ipython3",
   "version": "3.9.7"
  }
 },
 "nbformat": 4,
 "nbformat_minor": 5
}

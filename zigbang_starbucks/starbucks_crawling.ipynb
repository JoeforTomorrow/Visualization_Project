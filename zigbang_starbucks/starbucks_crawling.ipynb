{
 "cells": [
  {
   "cell_type": "code",
   "execution_count": 1,
   "id": "030b3270",
   "metadata": {},
   "outputs": [],
   "source": [
    "import requests\n",
    "from bs4 import BeautifulSoup\n",
    "from selenium import webdriver\n",
    "from selenium.webdriver.chrome.service import Service\n",
    "from selenium.webdriver.common.by import By\n",
    "import pandas as pd\n",
    "import time"
   ]
  },
  {
   "cell_type": "code",
   "execution_count": 2,
   "id": "9fdcfbef",
   "metadata": {},
   "outputs": [],
   "source": [
    "ser = Service('C:/Users/jjp75/Downloads/chromedriver.exe') # chromedriver.exe의 절대적 위치\n",
    "driver = webdriver.Chrome(service = ser)                            # driver 객체 생성\n",
    "url = \"https://www.starbucks.co.kr/store/store_map.do/\"    #  크롤링을 실행 할 url 주소 - 스타벅스 매장위치 사이트\n",
    "driver.get(url)                                                                    # chromedriver을 통해서 url에 접근"
   ]
  },
  {
   "cell_type": "code",
   "execution_count": 91,
   "id": "7fa4057e",
   "metadata": {},
   "outputs": [],
   "source": [
    "# [지역검색] 버튼의 SELECTOR 값\n",
    "loc_btn = '#container > div > form > fieldset > div > section > article.find_store_cont > article > header.loca_search > h3 > a'\n",
    "#  [서울] 버튼의 SELECTOR 값\n",
    "seoul_btn = '#container > div > form > fieldset > div > section > article.find_store_cont > article > article:nth-child(4) > div.loca_step1 > div.loca_step1_cont > ul > li:nth-child(1) > a'\n",
    "# [전체] 버튼의 SELECTOR 값\n",
    "all_btn = '#mCSB_2_container > ul > li:nth-child(1) > a'\n",
    "# [지역검색] 버튼을 클릭\n",
    "driver.find_element(By.CSS_SELECTOR, loc_btn).click()\n",
    "# time.sleep이 없이 진행하면 명령어들이 거의 동시에 진행되어 웹 상에서 반응 하기 전에 끝나버렸다. \n",
    "#클릭후 페이지 로드 시간을 감안하여 1초씩 실행시간을 부여했다.\n",
    "time.sleep(1) \n",
    "# [서울] 버튼을 클릭\n",
    "driver.find_element(By.CSS_SELECTOR, seoul_btn).click()\n",
    "time.sleep(1)\n",
    "# [전체] 버튼을 클릭\n",
    "driver.find_element(By.CSS_SELECTOR, all_btn).click()"
   ]
  },
  {
   "cell_type": "code",
   "execution_count": 84,
   "id": "11af59af",
   "metadata": {},
   "outputs": [],
   "source": [
    "html = driver.page_source                         # 서울 전체 매장 정보가 나타나있는 페이지의 소스를 html 변수에 지정\n",
    "soup = BeautifulSoup(html, 'html.parser')  # BeautifulSoup을 활용하여 html parse"
   ]
  },
  {
   "cell_type": "code",
   "execution_count": 173,
   "id": "8d477bd9",
   "metadata": {},
   "outputs": [
    {
     "data": {
      "text/plain": [
       "577"
      ]
     },
     "execution_count": 173,
     "metadata": {},
     "output_type": "execute_result"
    }
   ],
   "source": [
    "# 매장 리스트의 SELECTOR 값을 통해 모든 매장 정보를 저장\n",
    "store_list = soup.select('#mCSB_3_container > ul > li.quickResultLstCon') \n",
    "# store_list의 길이를 출력해본 결과 577개로 서울 내 모든 매장정보다 담겼음을 알 수 있다.\n",
    "len(store_list)"
   ]
  },
  {
   "cell_type": "code",
   "execution_count": 184,
   "id": "9e529ac3",
   "metadata": {},
   "outputs": [
    {
     "data": {
      "text/plain": [
       "'서울특별시 강남구 언주로 425 (역삼동)1522-3232'"
      ]
     },
     "execution_count": 184,
     "metadata": {},
     "output_type": "execute_result"
    }
   ],
   "source": [
    "# for 문을 돌려가며 store_list에서 데이터를 뽑아오기 전 데이터 형태 확인하는 작업\n",
    "test = store_list[0]\n",
    "test.select('p')[0].text"
   ]
  },
  {
   "cell_type": "code",
   "execution_count": 171,
   "id": "00839101",
   "metadata": {},
   "outputs": [],
   "source": [
    "df = pd.DataFrame() # 빈 데이터프레임 생성, 여기에 store_list에서 뽑인 정보가 들어갈 것이다.\n",
    "for store in store_list:\n",
    "    # store_list의 개별 store에서 'data-lat' 'data-long' attribute를 통해 위도 경도 정보를 얻는다.\n",
    "    ## bs4.element 객체에서 attribute의 value에 접근하기 위해서는 element['attribute'] <- 이런식을 통해 value값을 얻는다.\n",
    "    lat_long = (store['data-lat'],store['data-long']) \n",
    "    # 'data-name' attribute에 지정되어있는 매장이름 정보\n",
    "    name = store['data-name']\n",
    "    # ㅇㅇ시 ㅇㅇ구 형태로 되어있는 부분을 공백을 기준으로 split하여 adr_list 변수에 list형태로 저장했다.\n",
    "    adr_list = store.select('p')[0].text.split(\" \")\n",
    "    # adr_list의 시 정보에 대한 데이터 부분이다. '서울특별시' 라고 되어있어 앞의 두글자만 따와서 '서울'만 저장했다.\n",
    "    si = adr_list[0][:2]\n",
    "    # adr_list의 구 정보\n",
    "    gu = adr_list[1]\n",
    "    # 동 정보가 있는경우 (ㅇㅇ동) 형태로 표기되어있었는데 동 정보가 없는 경우도 있었다. \n",
    "    # 그런 경우엔 except문을 통해 도로명 주소가 나타나도록 했다.\n",
    "    try:\n",
    "        dong = store.select('p')[0].text.split(\"(\")[1].split(\")\")[0]\n",
    "    except:\n",
    "        dong = adr_list[2]\n",
    "    # 위에서 모은 시 구 동 위경도 매장명 데이터를 Series 형태로 저장\n",
    "    x = pd.Series([si,gu,dong,lat_long,name])\n",
    "    # 데이터프레임에 하나씩 추가\n",
    "    df = df.append(x, ignore_index = True)"
   ]
  },
  {
   "cell_type": "code",
   "execution_count": 178,
   "id": "e8dbe5b3",
   "metadata": {},
   "outputs": [],
   "source": [
    "# 저장된 csv 파일을 확인 결과 잘 저장이 되었음을 확인할 수 있었다.\n",
    "df.to_csv(\"store_list.csv\")"
   ]
  }
 ],
 "metadata": {
  "kernelspec": {
   "display_name": "Python 3 (ipykernel)",
   "language": "python",
   "name": "python3"
  },
  "language_info": {
   "codemirror_mode": {
    "name": "ipython",
    "version": 3
   },
   "file_extension": ".py",
   "mimetype": "text/x-python",
   "name": "python",
   "nbconvert_exporter": "python",
   "pygments_lexer": "ipython3",
   "version": "3.9.7"
  }
 },
 "nbformat": 4,
 "nbformat_minor": 5
}

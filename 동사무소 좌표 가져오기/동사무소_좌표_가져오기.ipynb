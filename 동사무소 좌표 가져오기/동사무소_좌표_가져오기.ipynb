{
  "nbformat": 4,
  "nbformat_minor": 0,
  "metadata": {
    "colab": {
      "name": "동사무소 좌표 가져오기",
      "private_outputs": true,
      "provenance": [],
      "collapsed_sections": []
    },
    "kernelspec": {
      "name": "python3",
      "display_name": "Python 3"
    },
    "language_info": {
      "name": "python"
    }
  },
  "cells": [
    {
      "cell_type": "code",
      "execution_count": null,
      "metadata": {
        "id": "NUrlDEKdgEbQ"
      },
      "outputs": [],
      "source": [
        "#강형민\n",
        "#법정동코드 조회자료.csv 사용 / 동사무소real.csv 사용\n",
        "KAKAO_API_KEY = \"1469df95894d229baad7ac36bdd4175f\"\n",
        "KAKAO_ADDRESS_SEARCH_URL = \"https://dapi.kakao.com//v2/local/search/keyword?query={}&page={}\""
      ]
    },
    {
      "cell_type": "code",
      "source": [
        "#법정동코드 불러오기\n",
        "import pandas as pd\n",
        "bdong = pd.read_csv('/content/법정동코드 조회자료.csv',encoding='utf-8')\n",
        "bdong"
      ],
      "metadata": {
        "id": "x4N6fKqs6rgU"
      },
      "execution_count": null,
      "outputs": []
    },
    {
      "cell_type": "code",
      "source": [
        "#법정동코드 전처리\n",
        "bdong = bdong.astype({'법정동코드':'int'})\n",
        "bdongn = bdong[bdong['법정동코드']%1000000 == 0].index\n",
        "bdong1 = bdong.drop(bdongn)\n",
        "#print(bdong1)\n",
        "#print(bdong1['법정동명'][0:])\n",
        "bdong2 = bdong1['법정동명'][0:]\n",
        "bdong3 = bdong2.iloc[[2]]\n",
        "print(bdong3)"
      ],
      "metadata": {
        "id": "RIC7l0lu8FeU"
      },
      "execution_count": null,
      "outputs": []
    },
    {
      "cell_type": "code",
      "source": [
        "#인증 정보 받아오기\n",
        "header = {\n",
        "  \"Authorization\": \"KakaoAK {}\".format(KAKAO_API_KEY)\n",
        "}\n",
        "\n",
        "header"
      ],
      "metadata": {
        "id": "CE8BSCfqglg0"
      },
      "execution_count": null,
      "outputs": []
    },
    {
      "cell_type": "code",
      "source": [
        "import requests\n",
        "import json\n",
        "i = 0\n",
        "datas = pd.DataFrame()\n",
        "gulist = bdong2\n",
        "\n",
        "#위에서 받은 ~시 ~구 ~동 + 동사무소로 검색. 페이지 3까지 볼수있지만 검색어가 자세해서 1페이지만 해도 중복 많이 나올거 같았음\n",
        "for i in range (len(bdong2.index)): \n",
        "    page=1\n",
        "    response = requests.get(KAKAO_ADDRESS_SEARCH_URL.format(\"{} 동사무소\".format(gulist.values[i]), page), headers=header) # 요청 URL 및 헤더 정보 넣어주기\n",
        "    datas1 = response.json()\n",
        "    documents = datas1['documents']\n",
        "    dt1 = pd.DataFrame(documents)\n",
        "    datas = pd.concat([datas, dt1])\n",
        "\n",
        "    print(\"470번중\",i,\"번째\")#테스트용\n",
        "\n",
        "\n",
        "# response = requests.get(KAKAO_ADDRESS_SEARCH_URL.format(\"{} 동사무소\".format(gulist.values[i]), page), headers=header) # 요청 URL 및 헤더 정보 넣어주기\n",
        "# datas = response.json()\n",
        "# datas\n",
        "# for i in range (len(bdong2.index)):\n",
        "#     page = 1\n",
        "#     while True:\n",
        "#         try:\n",
        "#             response = requests.get(KAKAO_ADDRESS_SEARCH_URL.format(\"{} 동사무소\".format(gulist.values[i]), page), headers=header) # 요청 URL 및 헤더 정보 넣어주기\n",
        "#             datas1 = response.json()\n",
        "#             datas.update(datas1)  \n",
        "#             print(page,\"페이지\")\n",
        "#             page += 1\n",
        "#         except Exception as e:\n",
        "#             print(\"오륜데용\", e)\n",
        "#             break\n"
      ],
      "metadata": {
        "id": "smBJrnDSgpIH"
      },
      "execution_count": null,
      "outputs": []
    },
    {
      "cell_type": "code",
      "source": [
        "#뽑은 dataframe 확인\n",
        "datas"
      ],
      "metadata": {
        "id": "4u4qNhFlg3xo"
      },
      "execution_count": null,
      "outputs": []
    },
    {
      "cell_type": "code",
      "source": [
        "#id 기준으로 중복 제거\n",
        "datasd = datas.drop_duplicates(['id'])\n",
        "datasd"
      ],
      "metadata": {
        "id": "zzvWBoXpg9ls"
      },
      "execution_count": null,
      "outputs": []
    },
    {
      "cell_type": "code",
      "source": [
        "#일단 저장후 다시 전처리\n",
        "datasd.to_csv(\"동사무소.csv\", mode='a', header = False, encoding='utf-8-sig')\n",
        "#엑셀에서 한글 깨져서 데이터 > 데이터 가져오기 > txt/csv에서 잘 만져서 다시 가져옴(어차피 다시 빼낼땐 또 깨질수도)"
      ],
      "metadata": {
        "id": "dQmxUYXRizGy"
      },
      "execution_count": null,
      "outputs": []
    },
    {
      "cell_type": "code",
      "source": [
        "#다시 불러왔음\n",
        "ddata = pd.read_csv(\"동사무소real.csv\", encoding='cp949') #utf-8 안되서 cp949로 불러옴\n",
        "ddata"
      ],
      "metadata": {
        "id": "VarlqXLVi0MG"
      },
      "execution_count": null,
      "outputs": []
    },
    {
      "cell_type": "code",
      "source": [
        "#필요한 것만 뽑아내기\n",
        "ddata = ddata[['Column9','Column2','Column12', 'Column13' ]]\n",
        "ddata"
      ],
      "metadata": {
        "id": "5HbfpIT8i5mh"
      },
      "execution_count": null,
      "outputs": []
    },
    {
      "cell_type": "code",
      "source": [
        "#Column명 변경\n",
        "ddata.columns = ['건물명','주소','경도','위도']\n",
        "ddata"
      ],
      "metadata": {
        "id": "1twPqIJzjCky"
      },
      "execution_count": null,
      "outputs": []
    },
    {
      "cell_type": "code",
      "source": [
        "#경기도 스파이 제거\n",
        "\n",
        "onlyseoul = ddata['주소'].str.contains(\"서울\")\n",
        "onlys = ddata[onlyseoul]\n",
        "onlys"
      ],
      "metadata": {
        "id": "vNzLiG8kADDo"
      },
      "execution_count": null,
      "outputs": []
    },
    {
      "cell_type": "code",
      "source": [
        "#진짜 저장\n",
        "onlys.to_csv(\"동사무소_전처리완료.csv\", mode='a', header = False, encoding='utf-8-')"
      ],
      "metadata": {
        "id": "nYvCi3-bBCN1"
      },
      "execution_count": null,
      "outputs": []
    },
    {
      "cell_type": "code",
      "source": [
        ""
      ],
      "metadata": {
        "id": "ZtlQ8h-eBiWS"
      },
      "execution_count": null,
      "outputs": []
    }
  ]
}
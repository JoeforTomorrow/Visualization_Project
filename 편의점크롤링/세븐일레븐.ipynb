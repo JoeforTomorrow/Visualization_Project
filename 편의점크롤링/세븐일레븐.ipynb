{
 "cells": [
  {
   "cell_type": "code",
   "execution_count": 1,
   "id": "d24558bd",
   "metadata": {},
   "outputs": [],
   "source": [
    "import requests\n",
    "from bs4 import BeautifulSoup\n",
    "import pandas as pd"
   ]
  },
  {
   "cell_type": "code",
   "execution_count": 2,
   "id": "81b07202",
   "metadata": {},
   "outputs": [],
   "source": [
    "def naver_map_crawler(gu ,search, page):\n",
    "    url = \"https://map.naver.com/v5/api/search?\"\n",
    "    payload = {\n",
    "        \"caller\": \"pcweb\",\n",
    "        \"query\": gu + search,\n",
    "        \"type\": \"all\",\n",
    "        \"searchCoord\": \"\",\n",
    "        \"page\": page,\n",
    "        \"displayCount\": 20,\n",
    "        \"isPlaceRecommendationReplace\": \"true\",\n",
    "        \"lang\": \"ko\",\n",
    "    }\n",
    "    headers = {\n",
    "    'user-agent' : 'Mozilla/5.0 (Windows NT 10.0; Win64; x64) AppleWebKit/537.36 (KHTML, like Gecko) Chrome/101.0.4951.41 Safari/537.36'\n",
    "    }\n",
    "    response = requests.get(url, params = payload,headers = headers)\n",
    "    x = response.json()['result']['place']['list']\n",
    "    return x"
   ]
  },
  {
   "cell_type": "code",
   "execution_count": 3,
   "id": "42068caf",
   "metadata": {},
   "outputs": [
    {
     "name": "stdout",
     "output_type": "stream",
     "text": [
      "1 2 3 4 5 6 7 8 9 10 11 12 13 14 15 1 2 3 4 5 6 7 8 9 10 11 12 13 14 15 1 2 3 4 5 6 7 8 9 10 11 12 13 14 15 1 2 3 4 5 6 7 8 9 10 11 12 13 14 15 1 2 3 4 5 6 7 8 9 10 11 12 13 14 15 1 2 3 4 5 6 7 8 9 10 11 12 13 14 15 1 2 3 4 5 6 7 8 9 10 11 12 13 14 15 1 2 3 4 5 6 7 8 9 10 11 12 13 14 15 1 2 3 4 5 6 7 8 9 10 11 12 13 14 15 1 2 3 4 5 6 7 8 9 10 11 12 13 14 15 1 2 3 4 5 6 7 8 9 10 11 12 13 14 15 1 2 3 4 5 6 7 8 9 10 11 12 13 14 15 1 2 3 4 5 6 7 8 9 10 11 12 13 14 15 1 2 3 4 5 6 7 8 9 10 11 12 13 14 15 1 2 3 4 5 6 7 8 9 10 11 12 13 14 15 1 2 3 4 5 6 7 8 9 10 11 12 13 14 15 1 2 3 4 5 6 7 8 9 10 11 12 13 14 15 1 2 3 4 5 6 7 8 9 10 11 12 13 14 15 1 2 3 4 5 6 7 8 9 10 11 "
     ]
    }
   ],
   "source": [
    "lst = []\n",
    "gus = ['종로구','중구','용산구','성동구',\n",
    "'광진구','동대문구','중랑구','성북구',\n",
    "'강북구','도봉구','노원구','은평구',\n",
    "'서대문구','마포구','양천구','강서구',\n",
    "'구로구','금천구','영등포구','동작구',\n",
    "'관악구','서초구','강남구','송파구','강동구']\n",
    "for gu in gus:\n",
    "    for i in range(1,100):\n",
    "        try:\n",
    "            lst = lst + naver_map_crawler(gu,\"세븐일레븐\",i)\n",
    "            print(i, end = \" \")\n",
    "        except:\n",
    "            break"
   ]
  },
  {
   "cell_type": "code",
   "execution_count": 4,
   "id": "0c7ba887",
   "metadata": {},
   "outputs": [],
   "source": [
    "df = pd.DataFrame()\n",
    "for seven in lst:\n",
    "    id   = seven[\"id\"]\n",
    "    name = seven[\"name\"]\n",
    "    addr = seven[\"address\"].split(\" \")\n",
    "    si   = addr[0]\n",
    "    gu   = addr[1]\n",
    "    dong = addr[2]\n",
    "    lat  = seven[\"y\"]\n",
    "    lng  = seven[\"x\"]\n",
    "    x = pd.Series([id,name,si,gu,dong,lat,lng])\n",
    "    df = df.append(x,ignore_index=True)"
   ]
  },
  {
   "cell_type": "code",
   "execution_count": 5,
   "id": "c8d9547e",
   "metadata": {},
   "outputs": [],
   "source": [
    "df = df.drop_duplicates()\n",
    "df = df.reset_index()"
   ]
  },
  {
   "cell_type": "code",
   "execution_count": 6,
   "id": "e2ffd1f0",
   "metadata": {},
   "outputs": [
    {
     "name": "stderr",
     "output_type": "stream",
     "text": [
      "C:\\Users\\jjp75\\AppData\\Local\\Temp/ipykernel_25400/939951016.py:1: FutureWarning: In a future version of pandas all arguments of DataFrame.drop except for the argument 'labels' will be keyword-only\n",
      "  df = df.drop(\"index\",1)\n"
     ]
    }
   ],
   "source": [
    "df = df.drop(\"index\",1)"
   ]
  },
  {
   "cell_type": "code",
   "execution_count": 8,
   "id": "95b2391c",
   "metadata": {},
   "outputs": [
    {
     "name": "stderr",
     "output_type": "stream",
     "text": [
      "C:\\Users\\jjp75\\AppData\\Local\\Temp/ipykernel_25400/1568630110.py:1: FutureWarning: In a future version of pandas all arguments of DataFrame.set_axis except for the argument 'labels' will be keyword-only\n",
      "  df3 = df.set_axis(['id','매장명','시','구','동','위도','경도'],1,inplace=False)\n",
      "C:\\Users\\jjp75\\AppData\\Local\\Temp/ipykernel_25400/1568630110.py:2: FutureWarning: In a future version of pandas all arguments of DataFrame.drop except for the argument 'labels' will be keyword-only\n",
      "  df_final = df3.drop(\"id\",1)\n"
     ]
    },
    {
     "data": {
      "text/html": [
       "<div>\n",
       "<style scoped>\n",
       "    .dataframe tbody tr th:only-of-type {\n",
       "        vertical-align: middle;\n",
       "    }\n",
       "\n",
       "    .dataframe tbody tr th {\n",
       "        vertical-align: top;\n",
       "    }\n",
       "\n",
       "    .dataframe thead th {\n",
       "        text-align: right;\n",
       "    }\n",
       "</style>\n",
       "<table border=\"1\" class=\"dataframe\">\n",
       "  <thead>\n",
       "    <tr style=\"text-align: right;\">\n",
       "      <th></th>\n",
       "      <th>매장명</th>\n",
       "      <th>시</th>\n",
       "      <th>구</th>\n",
       "      <th>동</th>\n",
       "      <th>위도</th>\n",
       "      <th>경도</th>\n",
       "    </tr>\n",
       "  </thead>\n",
       "  <tbody>\n",
       "    <tr>\n",
       "      <th>0</th>\n",
       "      <td>세븐일레븐 종로사직점</td>\n",
       "      <td>서울특별시</td>\n",
       "      <td>종로구</td>\n",
       "      <td>사직동</td>\n",
       "      <td>37.5735750</td>\n",
       "      <td>126.9640999</td>\n",
       "    </tr>\n",
       "    <tr>\n",
       "      <th>1</th>\n",
       "      <td>세븐일레븐 종로재동점</td>\n",
       "      <td>서울특별시</td>\n",
       "      <td>종로구</td>\n",
       "      <td>재동</td>\n",
       "      <td>37.5795238</td>\n",
       "      <td>126.9847486</td>\n",
       "    </tr>\n",
       "    <tr>\n",
       "      <th>2</th>\n",
       "      <td>세븐일레븐 이화벽화마을점</td>\n",
       "      <td>서울특별시</td>\n",
       "      <td>종로구</td>\n",
       "      <td>이화동</td>\n",
       "      <td>37.5764182</td>\n",
       "      <td>127.0064047</td>\n",
       "    </tr>\n",
       "    <tr>\n",
       "      <th>3</th>\n",
       "      <td>세븐일레븐 동대문점</td>\n",
       "      <td>서울특별시</td>\n",
       "      <td>종로구</td>\n",
       "      <td>종로6가</td>\n",
       "      <td>37.5714680</td>\n",
       "      <td>127.0086439</td>\n",
       "    </tr>\n",
       "    <tr>\n",
       "      <th>4</th>\n",
       "      <td>세븐일레븐 종로신협점</td>\n",
       "      <td>서울특별시</td>\n",
       "      <td>종로구</td>\n",
       "      <td>창신동</td>\n",
       "      <td>37.5700478</td>\n",
       "      <td>127.0108415</td>\n",
       "    </tr>\n",
       "    <tr>\n",
       "      <th>...</th>\n",
       "      <td>...</td>\n",
       "      <td>...</td>\n",
       "      <td>...</td>\n",
       "      <td>...</td>\n",
       "      <td>...</td>\n",
       "      <td>...</td>\n",
       "    </tr>\n",
       "    <tr>\n",
       "      <th>1599</th>\n",
       "      <td>세븐일레븐 관악무지개점</td>\n",
       "      <td>서울특별시</td>\n",
       "      <td>관악구</td>\n",
       "      <td>봉천동</td>\n",
       "      <td>37.4766742</td>\n",
       "      <td>126.9547091</td>\n",
       "    </tr>\n",
       "    <tr>\n",
       "      <th>1600</th>\n",
       "      <td>세븐일레븐 동작성대점</td>\n",
       "      <td>서울특별시</td>\n",
       "      <td>동작구</td>\n",
       "      <td>상도동</td>\n",
       "      <td>37.4990840</td>\n",
       "      <td>126.9328347</td>\n",
       "    </tr>\n",
       "    <tr>\n",
       "      <th>1601</th>\n",
       "      <td>세븐일레븐 보라매자이점</td>\n",
       "      <td>서울특별시</td>\n",
       "      <td>동작구</td>\n",
       "      <td>신대방동</td>\n",
       "      <td>37.4983519</td>\n",
       "      <td>126.9252861</td>\n",
       "    </tr>\n",
       "    <tr>\n",
       "      <th>1602</th>\n",
       "      <td>세븐일레븐 봉천해주점</td>\n",
       "      <td>서울특별시</td>\n",
       "      <td>관악구</td>\n",
       "      <td>봉천동</td>\n",
       "      <td>37.4820421</td>\n",
       "      <td>126.9517863</td>\n",
       "    </tr>\n",
       "    <tr>\n",
       "      <th>1603</th>\n",
       "      <td>세븐일레븐 신대방점</td>\n",
       "      <td>서울특별시</td>\n",
       "      <td>동작구</td>\n",
       "      <td>신대방동</td>\n",
       "      <td>37.4975640</td>\n",
       "      <td>126.9277369</td>\n",
       "    </tr>\n",
       "  </tbody>\n",
       "</table>\n",
       "<p>1604 rows × 6 columns</p>\n",
       "</div>"
      ],
      "text/plain": [
       "                매장명      시    구     동          위도           경도\n",
       "0       세븐일레븐 종로사직점  서울특별시  종로구   사직동  37.5735750  126.9640999\n",
       "1       세븐일레븐 종로재동점  서울특별시  종로구    재동  37.5795238  126.9847486\n",
       "2     세븐일레븐 이화벽화마을점  서울특별시  종로구   이화동  37.5764182  127.0064047\n",
       "3        세븐일레븐 동대문점  서울특별시  종로구  종로6가  37.5714680  127.0086439\n",
       "4       세븐일레븐 종로신협점  서울특별시  종로구   창신동  37.5700478  127.0108415\n",
       "...             ...    ...  ...   ...         ...          ...\n",
       "1599   세븐일레븐 관악무지개점  서울특별시  관악구   봉천동  37.4766742  126.9547091\n",
       "1600    세븐일레븐 동작성대점  서울특별시  동작구   상도동  37.4990840  126.9328347\n",
       "1601   세븐일레븐 보라매자이점  서울특별시  동작구  신대방동  37.4983519  126.9252861\n",
       "1602    세븐일레븐 봉천해주점  서울특별시  관악구   봉천동  37.4820421  126.9517863\n",
       "1603     세븐일레븐 신대방점  서울특별시  동작구  신대방동  37.4975640  126.9277369\n",
       "\n",
       "[1604 rows x 6 columns]"
      ]
     },
     "execution_count": 8,
     "metadata": {},
     "output_type": "execute_result"
    }
   ],
   "source": [
    "df3 = df.set_axis(['id','매장명','시','구','동','위도','경도'],1,inplace=False)\n",
    "df_final = df3.drop(\"id\",1)\n",
    "df_final"
   ]
  },
  {
   "cell_type": "code",
   "execution_count": 9,
   "id": "8ebed7a5",
   "metadata": {},
   "outputs": [],
   "source": [
    "df_final.to_csv(\"seoul_seveneleven.csv\")"
   ]
  }
 ],
 "metadata": {
  "kernelspec": {
   "display_name": "Python 3 (ipykernel)",
   "language": "python",
   "name": "python3"
  },
  "language_info": {
   "codemirror_mode": {
    "name": "ipython",
    "version": 3
   },
   "file_extension": ".py",
   "mimetype": "text/x-python",
   "name": "python",
   "nbconvert_exporter": "python",
   "pygments_lexer": "ipython3",
   "version": "3.9.7"
  }
 },
 "nbformat": 4,
 "nbformat_minor": 5
}
